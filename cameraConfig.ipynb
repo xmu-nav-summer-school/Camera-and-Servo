{
 "cells": [
  {
   "cell_type": "markdown",
   "metadata": {},
   "source": [
    "<center><img src=\"../logo.png\" alt=\"Header\" style=\"width: 800px;\"/></center>"
   ]
  },
  {
   "cell_type": "code",
   "execution_count": 1,
   "metadata": {},
   "outputs": [],
   "source": [
    "import cv2\n",
    "import ipywidgets.widgets as widgets\n",
    "import threading\n",
    "import time\n",
    "import RPi.GPIO as GPIO"
   ]
  },
  {
   "cell_type": "code",
   "execution_count": 2,
   "metadata": {},
   "outputs": [],
   "source": [
    "#bgr8转jpeg格式\n",
    "def bgr8_to_jpeg(value, quality=75):\n",
    "    return bytes(cv2.imencode('.jpg', value)[1])"
   ]
  },
  {
   "cell_type": "code",
   "execution_count": 3,
   "metadata": {},
   "outputs": [],
   "source": [
    "#初始化舵机\n",
    "def initServo(port):\n",
    "    GPIO.setmode(GPIO.BCM)\n",
    "    GPIO.setwarnings(False)\n",
    "    GPIO.setup(port, GPIO.OUT)"
   ]
  },
  {
   "cell_type": "code",
   "execution_count": 4,
   "metadata": {},
   "outputs": [],
   "source": [
    "#设置舵机角度\n",
    "def setServoAngle(port,angle):\n",
    "    tilt = GPIO.PWM(port, 50) #设置频率为50hz\n",
    "    tilt.start(0)\n",
    "    DutyCycle = angle/18 + 2\n",
    "    tilt.ChangeDutyCycle(DutyCycle)\n",
    "    time.sleep(1)\n",
    "    tilt.stop()"
   ]
  },
  {
   "cell_type": "code",
   "execution_count": 5,
   "metadata": {},
   "outputs": [],
   "source": [
    "#调整舵机\n",
    "def adjVServo():\n",
    "    initServo(11)\n",
    "    initServo(23)\n",
    "    status = input(\"Type 'h' to set horizontal angle, type 'v' to set vertical angle, type 'e' to end adjusting.\")\n",
    "    while (status == 'v') | (status=='h'):\n",
    "        if status == 'v':\n",
    "            port = 11\n",
    "        else :\n",
    "            port = 23\n",
    "        angle = input('Please type an angle:')  # input输入的是字符串，需要用int（）函数转化成数字。\n",
    "        angle = int(angle)\n",
    "        setServoAngle(port,angle)\n",
    "        status = input(\"'h' or 'v' or 'e' ?\") \n",
    "    GPIO.cleanup()"
   ]
  },
  {
   "cell_type": "code",
   "execution_count": 6,
   "metadata": {},
   "outputs": [],
   "source": [
    "#获取摄像头\n",
    "def getCamera():\n",
    "    #设置摄像头显示组件\n",
    "    image_widget = widgets.Image(format='jpeg', width=500, height=400)  \n",
    "    display(image_widget)   \n",
    "    image = cv2.VideoCapture(0)                           #打开摄像头\n",
    "    image.set(cv2.CAP_PROP_FOURCC, cv2.VideoWriter.fourcc('M', 'J', 'P', 'G')) #设置视频压制格式为MJPG\n",
    "    \n",
    "#     ##这部分参数取决于摄像头本身\n",
    "#     image.set(3,600)  #设置帧宽\n",
    "#     image.set(4,500)  #设置帧高\n",
    "#     image.set(5,30)  #设置帧率\n",
    "#     image.set(cv2.CAP_PROP_BRIGHTNESS, 55) #设置亮度 -64 - 64  0.0\n",
    "#     image.set(cv2.CAP_PROP_CONTRAST, 55)   #设置对比度 -64 - 64  2.0\n",
    "#     image.set(cv2.CAP_PROP_EXPOSURE, 140)  #设置曝光值 1.0 - 5000  156.0\n",
    "    \n",
    "    #读取摄像头数据\n",
    "    ret, frame = image.read()     \n",
    "    image_widget.value = bgr8_to_jpeg(frame)\n",
    "    \n",
    "    #将摄像头视频流赋值给显示组件\n",
    "    while True:\n",
    "        ret, frame = image.read()\n",
    "        image_widget.value = bgr8_to_jpeg(frame)\n",
    "        time.sleep(0.010)\n",
    "    image.release()              #使用完成对象记住释放掉对象，不然下一个程序使用这个对象模块会被占用，导致无法使用"
   ]
  },
  {
   "cell_type": "code",
   "execution_count": 7,
   "metadata": {},
   "outputs": [
    {
     "data": {
      "application/vnd.jupyter.widget-view+json": {
       "model_id": "2f67cd7288a54e0a9de2c0be1894aadf",
       "version_major": 2,
       "version_minor": 0
      },
      "text/plain": [
       "Image(value=b'', format='jpeg', height='400', width='500')"
      ]
     },
     "metadata": {},
     "output_type": "display_data"
    },
    {
     "name": "stdin",
     "output_type": "stream",
     "text": [
      "Type 'h' to set horizontal angle, type 'v' to set vertical angle, type 'e' to end video session. h\n",
      "Please type an angle: 90\n",
      "'h' or 'v' or 'e' ? h\n",
      "Please type an angle: 0\n",
      "'h' or 'v' or 'e' ? h\n",
      "Please type an angle: 180\n",
      "'h' or 'v' or 'e' ? v\n",
      "Please type an angle: 90\n",
      "'h' or 'v' or 'e' ? v\n",
      "Please type an angle: 120\n",
      "'h' or 'v' or 'e' ? v\n",
      "Please type an angle: 150\n",
      "'h' or 'v' or 'e' ? v\n",
      "Please type an angle: 120\n",
      "'h' or 'v' or 'e' ? h\n",
      "Please type an angle: 90\n",
      "'h' or 'v' or 'e' ? v\n",
      "Please type an angle: 120\n",
      "'h' or 'v' or 'e' ? h\n",
      "Please type an angle: 120\n",
      "'h' or 'v' or 'e' ? h\n",
      "Please type an angle: 75\n",
      "'h' or 'v' or 'e' ? e\n"
     ]
    },
    {
     "ename": "KeyboardInterrupt",
     "evalue": "",
     "output_type": "error",
     "traceback": [
      "\u001b[0;31m---------------------------------------------------------------------------\u001b[0m",
      "\u001b[0;31mKeyboardInterrupt\u001b[0m                         Traceback (most recent call last)",
      "\u001b[0;32m/tmp/ipykernel_1923/2897770739.py\u001b[0m in \u001b[0;36m<module>\u001b[0;34m\u001b[0m\n\u001b[1;32m      9\u001b[0m          \u001b[0mt\u001b[0m\u001b[0;34m.\u001b[0m\u001b[0mstart\u001b[0m\u001b[0;34m(\u001b[0m\u001b[0;34m)\u001b[0m\u001b[0;34m\u001b[0m\u001b[0;34m\u001b[0m\u001b[0m\n\u001b[1;32m     10\u001b[0m \u001b[0;32mfor\u001b[0m \u001b[0mt\u001b[0m \u001b[0;32min\u001b[0m \u001b[0mthreads\u001b[0m\u001b[0;34m:\u001b[0m\u001b[0;34m\u001b[0m\u001b[0;34m\u001b[0m\u001b[0m\n\u001b[0;32m---> 11\u001b[0;31m          \u001b[0mt\u001b[0m\u001b[0;34m.\u001b[0m\u001b[0mjoin\u001b[0m\u001b[0;34m(\u001b[0m\u001b[0;34m)\u001b[0m\u001b[0;34m\u001b[0m\u001b[0;34m\u001b[0m\u001b[0m\n\u001b[0m",
      "\u001b[0;32m/usr/lib/python3.7/threading.py\u001b[0m in \u001b[0;36mjoin\u001b[0;34m(self, timeout)\u001b[0m\n\u001b[1;32m   1030\u001b[0m \u001b[0;34m\u001b[0m\u001b[0m\n\u001b[1;32m   1031\u001b[0m         \u001b[0;32mif\u001b[0m \u001b[0mtimeout\u001b[0m \u001b[0;32mis\u001b[0m \u001b[0;32mNone\u001b[0m\u001b[0;34m:\u001b[0m\u001b[0;34m\u001b[0m\u001b[0;34m\u001b[0m\u001b[0m\n\u001b[0;32m-> 1032\u001b[0;31m             \u001b[0mself\u001b[0m\u001b[0;34m.\u001b[0m\u001b[0m_wait_for_tstate_lock\u001b[0m\u001b[0;34m(\u001b[0m\u001b[0;34m)\u001b[0m\u001b[0;34m\u001b[0m\u001b[0;34m\u001b[0m\u001b[0m\n\u001b[0m\u001b[1;32m   1033\u001b[0m         \u001b[0;32melse\u001b[0m\u001b[0;34m:\u001b[0m\u001b[0;34m\u001b[0m\u001b[0;34m\u001b[0m\u001b[0m\n\u001b[1;32m   1034\u001b[0m             \u001b[0;31m# the behavior of a negative timeout isn't documented, but\u001b[0m\u001b[0;34m\u001b[0m\u001b[0;34m\u001b[0m\u001b[0;34m\u001b[0m\u001b[0m\n",
      "\u001b[0;32m/usr/lib/python3.7/threading.py\u001b[0m in \u001b[0;36m_wait_for_tstate_lock\u001b[0;34m(self, block, timeout)\u001b[0m\n\u001b[1;32m   1046\u001b[0m         \u001b[0;32mif\u001b[0m \u001b[0mlock\u001b[0m \u001b[0;32mis\u001b[0m \u001b[0;32mNone\u001b[0m\u001b[0;34m:\u001b[0m  \u001b[0;31m# already determined that the C code is done\u001b[0m\u001b[0;34m\u001b[0m\u001b[0;34m\u001b[0m\u001b[0m\n\u001b[1;32m   1047\u001b[0m             \u001b[0;32massert\u001b[0m \u001b[0mself\u001b[0m\u001b[0;34m.\u001b[0m\u001b[0m_is_stopped\u001b[0m\u001b[0;34m\u001b[0m\u001b[0;34m\u001b[0m\u001b[0m\n\u001b[0;32m-> 1048\u001b[0;31m         \u001b[0;32melif\u001b[0m \u001b[0mlock\u001b[0m\u001b[0;34m.\u001b[0m\u001b[0macquire\u001b[0m\u001b[0;34m(\u001b[0m\u001b[0mblock\u001b[0m\u001b[0;34m,\u001b[0m \u001b[0mtimeout\u001b[0m\u001b[0;34m)\u001b[0m\u001b[0;34m:\u001b[0m\u001b[0;34m\u001b[0m\u001b[0;34m\u001b[0m\u001b[0m\n\u001b[0m\u001b[1;32m   1049\u001b[0m             \u001b[0mlock\u001b[0m\u001b[0;34m.\u001b[0m\u001b[0mrelease\u001b[0m\u001b[0;34m(\u001b[0m\u001b[0;34m)\u001b[0m\u001b[0;34m\u001b[0m\u001b[0;34m\u001b[0m\u001b[0m\n\u001b[1;32m   1050\u001b[0m             \u001b[0mself\u001b[0m\u001b[0;34m.\u001b[0m\u001b[0m_stop\u001b[0m\u001b[0;34m(\u001b[0m\u001b[0;34m)\u001b[0m\u001b[0;34m\u001b[0m\u001b[0;34m\u001b[0m\u001b[0m\n",
      "\u001b[0;31mKeyboardInterrupt\u001b[0m: "
     ]
    }
   ],
   "source": [
    "#分线程\n",
    "threads = []\n",
    "\n",
    "t1 = threading.Thread(target=getCamera)\n",
    "threads.append(t1)\n",
    "t2 = threading.Thread(target=adjVServo)\n",
    "threads.append(t2)\n",
    "for t in threads:\n",
    "         t.start()\n",
    "for t in threads:\n",
    "         t.join()"
   ]
  }
 ],
 "metadata": {
  "kernelspec": {
   "display_name": "Python 3 (ipykernel)",
   "language": "python",
   "name": "python3"
  },
  "language_info": {
   "codemirror_mode": {
    "name": "ipython",
    "version": 3
   },
   "file_extension": ".py",
   "mimetype": "text/x-python",
   "name": "python",
   "nbconvert_exporter": "python",
   "pygments_lexer": "ipython3",
   "version": "3.7.3"
  }
 },
 "nbformat": 4,
 "nbformat_minor": 4
}
